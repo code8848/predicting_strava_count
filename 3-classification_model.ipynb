{
 "cells": [
  {
   "cell_type": "code",
   "execution_count": 2,
   "metadata": {},
   "outputs": [],
   "source": [
    "import pandas as pd\n",
    "import os\n",
    "import numpy as np\n",
    "import matplotlib.pyplot as plt\n",
    "import seaborn as sns\n",
    "import warnings\n",
    "warnings.filterwarnings(\"ignore\")"
   ]
  },
  {
   "cell_type": "markdown",
   "metadata": {},
   "source": [
    "#### Import"
   ]
  },
  {
   "cell_type": "code",
   "execution_count": 3,
   "metadata": {},
   "outputs": [],
   "source": [
    "data=pd.read_csv('Data_Preparation/Final_data/FullRandomData.csv')"
   ]
  },
  {
   "cell_type": "markdown",
   "metadata": {},
   "source": [
    "#### Preprocessing"
   ]
  },
  {
   "cell_type": "code",
   "execution_count": 4,
   "metadata": {},
   "outputs": [],
   "source": []
  },
  {
   "cell_type": "code",
   "execution_count": 22,
   "metadata": {},
   "outputs": [],
   "source": [
    "#aggregating \n",
    "data['Pop_abv_18']=data.iloc[:,4:12].sum(axis=1)\n",
    "data['Pop_btw_18_44']=data.iloc[:,4:7].sum(axis=1)\n",
    "data['Pop_abv_65']=data.iloc[:,9:12].sum(axis=1)\n",
    "data['Pop_bclr_dgre_more']=data.iloc[:,21:25].sum(axis=1)\n",
    "#Renaming\n",
    "data=data.rename(columns={  'Total Population: Male':'Total_male',\n",
    "                            'Total Population: Female':'Total_female',\n",
    "                            'Households: Family Households':'Household_family',\n",
    "                            'Households: Nonfamily Households':'Household_nonfamily',\n",
    "                            'Total Population:':'Total_popu',\n",
    "                            'Per Capita Income (In 2020 Inflation Adjusted Dollars)':'Per_capita',\n",
    "                            'Households:':'Households',\n",
    "                            'Owner Occupied Housing Units':'Owner_Occupied_Housing_Units',\n",
    "                            'In Labor Force 16 Years and Over:':'In_Labor_Force_16_Years_and_Over'\n",
    "                            })\n",
    "#Selecting only relevant variables\n",
    "bike=data.loc[:,['Total_popu','Total_male','Total_female', 'Households','Household_family','Household_nonfamily', \n",
    "        'In_Labor_Force_16_Years_and_Over','Per_capita','Owner_Occupied_Housing_Units','land_use','bike_fac12', \n",
    "        'trail','lu_entropy', 'Ac_Unpr', 'D3A', 'D3AMM', 'D3APO', 'D3B', 'NatWalkInd', 'D4A', 'D4C',\n",
    "       'D4D','Pop_abv_18','Pop_btw_18_44', 'Pop_abv_65', 'Pop_bclr_dgre_more',\n",
    "         'str_bik_21', 'str_bik_22']]\n",
    "ped=data.loc[:,['Total_popu','Total_male','Total_female', 'Households','Household_family','Household_nonfamily', \n",
    "        'In_Labor_Force_16_Years_and_Over','Per_capita','Owner_Occupied_Housing_Units','land_use','bike_fac12', \n",
    "        'trail','lu_entropy', 'Ac_Unpr', 'D3A', 'D3AMM', 'D3APO', 'D3B', 'NatWalkInd', 'D4A', 'D4C',\n",
    "       'D4D', 'Pop_abv_18','Pop_btw_18_44', 'Pop_abv_65', 'Pop_bclr_dgre_more',\n",
    "        'str_ped_21', 'str_ped_22']]\n",
    "#Excluding NaN\n",
    "bike=bike[(bike.str_bik_21.notna())&(bike.str_bik_22.notna())]\n",
    "ped=ped[(ped.str_ped_21.notna())&(ped.str_ped_22.notna())]\n",
    "bike.reset_index(drop=True, inplace=True)\n",
    "ped.reset_index(drop=True, inplace=True)"
   ]
  },
  {
   "cell_type": "code",
   "execution_count": 23,
   "metadata": {},
   "outputs": [],
   "source": [
    "#Doubling dataset by changing the output y for the same data to 2021 and 2022\n",
    "bike21=bike.drop(['str_bik_22'], axis=1).rename(columns={'str_bik_21':'strava'})\n",
    "bike22=bike.drop(['str_bik_21'], axis=1).rename(columns={'str_bik_22':'strava'})\n",
    "ped21=ped.drop(['str_ped_22'], axis=1).rename(columns={'str_ped_21':'strava'})\n",
    "ped22=ped.drop(['str_ped_21'], axis=1).rename(columns={'str_ped_22':'strava'})\n",
    "#Coding year\n",
    "bike21['year']=1\n",
    "bike22['year']=2\n",
    "ped21['year']=1\n",
    "ped22['year']=2\n",
    "\n",
    "#CONCAT\n",
    "bike2=pd.concat([bike21,bike22])\n",
    "ped2=pd.concat([ped21,ped22])\n",
    "#There are 6034 Nan in smart location data\n",
    "bike2=bike2[bike2.D4A.notna()]\n",
    "ped2=ped2[ped2.D4A.notna()]"
   ]
  },
  {
   "cell_type": "code",
   "execution_count": 24,
   "metadata": {},
   "outputs": [
    {
     "name": "stdout",
     "output_type": "stream",
     "text": [
      "37162\n",
      "33666\n"
     ]
    }
   ],
   "source": [
    "print(len(bike2))\n",
    "print(len(ped2))"
   ]
  },
  {
   "cell_type": "markdown",
   "metadata": {},
   "source": [
    "#### Converting into category"
   ]
  },
  {
   "cell_type": "code",
   "execution_count": 25,
   "metadata": {},
   "outputs": [
    {
     "data": {
      "text/plain": [
       "count    37162.000000\n",
       "mean        11.758058\n",
       "std         17.442103\n",
       "min          5.000000\n",
       "25%          5.422663\n",
       "50%          6.593750\n",
       "75%         10.707070\n",
       "max        785.562500\n",
       "Name: strava, dtype: float64"
      ]
     },
     "execution_count": 25,
     "metadata": {},
     "output_type": "execute_result"
    }
   ],
   "source": [
    "bike2.strava.describe()"
   ]
  },
  {
   "cell_type": "code",
   "execution_count": 26,
   "metadata": {},
   "outputs": [
    {
     "data": {
      "text/plain": [
       "[['A', 27079], ['B', 9893], ['C', 190]]"
      ]
     },
     "execution_count": 26,
     "metadata": {},
     "output_type": "execute_result"
    }
   ],
   "source": [
    "new_st=[]\n",
    "for x in bike2.strava:\n",
    "    if (x<=10):\n",
    "        new_st.append(\"A\")\n",
    "    if (x<=100) & (x>10):\n",
    "        new_st.append(\"B\")\n",
    "    if (x>100):\n",
    "        new_st.append('C')\n",
    "\n",
    "[[x,new_st.count(x)] for x in set(new_st)]\n"
   ]
  },
  {
   "cell_type": "code",
   "execution_count": 27,
   "metadata": {},
   "outputs": [
    {
     "data": {
      "text/plain": [
       "count    33666.000000\n",
       "mean        10.950032\n",
       "std         27.303452\n",
       "min          5.000000\n",
       "25%          5.287829\n",
       "50%          6.072530\n",
       "75%          8.416667\n",
       "max        841.666667\n",
       "Name: strava, dtype: float64"
      ]
     },
     "execution_count": 27,
     "metadata": {},
     "output_type": "execute_result"
    }
   ],
   "source": [
    "ped2.strava.describe()"
   ]
  },
  {
   "cell_type": "code",
   "execution_count": 28,
   "metadata": {},
   "outputs": [
    {
     "data": {
      "text/plain": [
       "[['A', 27377], ['B', 5964], ['C', 325]]"
      ]
     },
     "execution_count": 28,
     "metadata": {},
     "output_type": "execute_result"
    }
   ],
   "source": [
    "new_st_p=[]\n",
    "for x in ped2.strava:\n",
    "    if (x<=10):\n",
    "        new_st_p.append(\"A\")\n",
    "    if (x<=100) & (x>10):\n",
    "        new_st_p.append(\"B\")\n",
    "    if (x>100):\n",
    "        new_st_p.append('C')\n",
    "[[x,new_st_p.count(x)] for x in set(new_st_p)]"
   ]
  },
  {
   "cell_type": "markdown",
   "metadata": {},
   "source": [
    "#### Sampling"
   ]
  },
  {
   "cell_type": "code",
   "execution_count": 29,
   "metadata": {},
   "outputs": [],
   "source": [
    "import phik"
   ]
  },
  {
   "cell_type": "code",
   "execution_count": 30,
   "metadata": {},
   "outputs": [],
   "source": [
    "bike2.strava=new_st\n",
    "ped2.strava=new_st_p"
   ]
  },
  {
   "cell_type": "code",
   "execution_count": 31,
   "metadata": {},
   "outputs": [],
   "source": [
    "bike_sample=bike2.sample(random_state=99, replace=False, n=20000)\n",
    "ped_sample=ped2.sample(random_state=99, replace=False, n=20000)"
   ]
  },
  {
   "cell_type": "code",
   "execution_count": 32,
   "metadata": {},
   "outputs": [],
   "source": [
    "#Making X and y \n",
    "bike_X=bike_sample.drop(['strava'], axis=1)\n",
    "bike_y=bike_sample['strava']\n",
    "\n",
    "#Making X and y and Getting dummies\n",
    "ped_X=ped_sample.drop(['strava'], axis=1)\n",
    "ped_y=ped_sample['strava']\n",
    "\n"
   ]
  },
  {
   "cell_type": "code",
   "execution_count": 33,
   "metadata": {},
   "outputs": [
    {
     "name": "stdout",
     "output_type": "stream",
     "text": [
      "interval columns not set, guessing: ['Total_popu', 'Total_male', 'Total_female', 'Households', 'Household_family', 'Household_nonfamily', 'In_Labor_Force_16_Years_and_Over', 'Per_capita', 'Owner_Occupied_Housing_Units', 'lu_entropy', 'Ac_Unpr', 'D3A', 'D3AMM', 'D3APO', 'D3B', 'NatWalkInd', 'D4A', 'D4C', 'D4D', 'Pop_abv_18', 'Pop_btw_18_44', 'Pop_abv_65', 'Pop_bclr_dgre_more', 'year']\n"
     ]
    },
    {
     "data": {
      "text/plain": [
       "<matplotlib.legend.Legend at 0x2998ce751f0>"
      ]
     },
     "execution_count": 33,
     "metadata": {},
     "output_type": "execute_result"
    },
    {
     "data": {
      "image/png": "[encoded data removed]",
      "text/plain": [
       "<Figure size 720x504 with 1 Axes>"
      ]
     },
     "metadata": {},
     "output_type": "display_data"
    }
   ],
   "source": [
    "bike_data=pd.concat([bike_X,bike_y], axis=1)\n",
    "imp_var=bike_data.phik_matrix()['strava'].sort_values(ascending=False)\n",
    "sns.set(font_scale=1.3)\n",
    "sns.set_style(\"whitegrid\",{\"grid.color\": \".6\", \"grid.linestyle\": \":\"})\n",
    "sns.barplot(y=imp_var.index[1:10], x=imp_var[1:10], orient = 'h', color='b')\n",
    "#.set_yticklabels(['Bike Fac', 'Trail', \"Bachelors Dgre\", 'Household', 'Per Capita', \"Owner's House\", 'Popu abv 18'])\n",
    "sns.set(rc= {'figure.figsize': (10,7)})\n",
    "plt.legend([],[])"
   ]
  },
  {
   "cell_type": "code",
   "execution_count": 34,
   "metadata": {},
   "outputs": [],
   "source": [
    "X=bike_X.loc[:,('bike_fac12','Per_capita','Pop_bclr_dgre_more','Household_nonfamily','Households','Pop_abv_18','Pop_abv_65','In_Labor_Force_16_Years_and_Over')]\n",
    "X.bike_fac12=bike_X.bike_fac12.astype('category').cat.codes"
   ]
  },
  {
   "cell_type": "code",
   "execution_count": 35,
   "metadata": {},
   "outputs": [
    {
     "data": {
      "text/plain": [
       "LogisticRegression()"
      ]
     },
     "execution_count": 35,
     "metadata": {},
     "output_type": "execute_result"
    }
   ],
   "source": [
    "from sklearn.linear_model import LogisticRegression\n",
    "from sklearn import metrics\n",
    "from sklearn.preprocessing import StandardScaler     \n",
    "from sklearn.model_selection import train_test_split\n",
    "X_train, X_test, y_train, y_test = train_test_split(X, bike_y, test_size=0.3, stratify=bike_y, random_state=0)\n",
    "logreg = LogisticRegression()\n",
    "logreg.fit(X_train, y_train)"
   ]
  },
  {
   "cell_type": "code",
   "execution_count": 36,
   "metadata": {},
   "outputs": [
    {
     "name": "stdout",
     "output_type": "stream",
     "text": [
      "Accuracy of logistic regression classifier on test set: 0.73\n"
     ]
    }
   ],
   "source": [
    "y_pred = logreg.predict(X_test)\n",
    "print('Accuracy of logistic regression classifier on test set: {:.2f}'.format(logreg.score(X_test, y_test)))"
   ]
  },
  {
   "cell_type": "code",
   "execution_count": 37,
   "metadata": {},
   "outputs": [
    {
     "name": "stdout",
     "output_type": "stream",
     "text": [
      "[[4374    0    0]\n",
      " [1593    0    0]\n",
      " [  33    0    0]]\n"
     ]
    }
   ],
   "source": [
    "from sklearn.metrics import confusion_matrix\n",
    "confusion_matrix = confusion_matrix(y_test, y_pred)\n",
    "print(confusion_matrix)"
   ]
  },
  {
   "cell_type": "code",
   "execution_count": 38,
   "metadata": {},
   "outputs": [
    {
     "name": "stdout",
     "output_type": "stream",
     "text": [
      "              precision    recall  f1-score   support\n",
      "\n",
      "           A       0.73      1.00      0.84      4374\n",
      "           B       0.00      0.00      0.00      1593\n",
      "           C       0.00      0.00      0.00        33\n",
      "\n",
      "    accuracy                           0.73      6000\n",
      "   macro avg       0.24      0.33      0.28      6000\n",
      "weighted avg       0.53      0.73      0.61      6000\n",
      "\n"
     ]
    }
   ],
   "source": [
    "from sklearn.metrics import classification_report\n",
    "print(classification_report(y_test, y_pred))"
   ]
  },
  {
   "cell_type": "markdown",
   "metadata": {},
   "source": [
    "#### Ped"
   ]
  },
  {
   "cell_type": "code",
   "execution_count": 39,
   "metadata": {},
   "outputs": [
    {
     "name": "stdout",
     "output_type": "stream",
     "text": [
      "interval columns not set, guessing: ['Total_popu', 'Total_male', 'Total_female', 'Households', 'Household_family', 'Household_nonfamily', 'In_Labor_Force_16_Years_and_Over', 'Per_capita', 'Owner_Occupied_Housing_Units', 'lu_entropy', 'Ac_Unpr', 'D3A', 'D3AMM', 'D3APO', 'D3B', 'NatWalkInd', 'D4A', 'D4C', 'D4D', 'Pop_abv_18', 'Pop_btw_18_44', 'Pop_abv_65', 'Pop_bclr_dgre_more', 'year']\n"
     ]
    },
    {
     "data": {
      "text/plain": [
       "<matplotlib.legend.Legend at 0x29986c08790>"
      ]
     },
     "execution_count": 39,
     "metadata": {},
     "output_type": "execute_result"
    },
    {
     "data": {
      "image/png": "[encoded data removed]",
      "text/plain": [
       "<Figure size 720x504 with 1 Axes>"
      ]
     },
     "metadata": {},
     "output_type": "display_data"
    }
   ],
   "source": [
    "ped_data=pd.concat([ped_X,ped_y], axis=1)\n",
    "imp_var=ped_data.phik_matrix()['strava'].sort_values(ascending=False)\n",
    "sns.set(font_scale=1.3)\n",
    "sns.set_style(\"whitegrid\",{\"grid.color\": \".6\", \"grid.linestyle\": \":\"})\n",
    "sns.barplot(y=imp_var.index[1:10], x=imp_var[1:10], orient = 'h', color='b')\n",
    "#.set_yticklabels(['Bike Fac', 'Trail', \"Bachelors Dgre\", 'Household', 'Per Capita', \"Owner's House\", 'Popu abv 18'])\n",
    "sns.set(rc= {'figure.figsize': (10,7)})\n",
    "plt.legend([],[])"
   ]
  },
  {
   "cell_type": "code",
   "execution_count": 40,
   "metadata": {},
   "outputs": [],
   "source": [
    "X=ped_X.loc[:,('bike_fac12','Per_capita','Pop_bclr_dgre_more','Household_nonfamily','Households','Pop_abv_18','Pop_btw_18_44','In_Labor_Force_16_Years_and_Over')]\n",
    "X.bike_fac12=ped_X.bike_fac12.astype('category').cat.codes"
   ]
  },
  {
   "cell_type": "code",
   "execution_count": 41,
   "metadata": {},
   "outputs": [
    {
     "data": {
      "text/plain": [
       "LogisticRegression()"
      ]
     },
     "execution_count": 41,
     "metadata": {},
     "output_type": "execute_result"
    }
   ],
   "source": [
    "\n",
    "X_train, X_test, y_train, y_test = train_test_split(X, ped_y, test_size=0.3,stratify=ped_y, random_state=0)\n",
    "logreg = LogisticRegression()\n",
    "logreg.fit(X_train, y_train)"
   ]
  },
  {
   "cell_type": "code",
   "execution_count": 42,
   "metadata": {},
   "outputs": [
    {
     "name": "stdout",
     "output_type": "stream",
     "text": [
      "Accuracy of logistic regression classifier on test set: 0.81\n"
     ]
    }
   ],
   "source": [
    "y_pred = logreg.predict(X_test)\n",
    "print('Accuracy of logistic regression classifier on test set: {:.2f}'.format(logreg.score(X_test, y_test)))"
   ]
  },
  {
   "cell_type": "code",
   "execution_count": 43,
   "metadata": {},
   "outputs": [
    {
     "name": "stdout",
     "output_type": "stream",
     "text": [
      "              precision    recall  f1-score   support\n",
      "\n",
      "           A       0.82      0.99      0.90      4882\n",
      "           B       0.48      0.06      0.11      1063\n",
      "           C       0.00      0.00      0.00        55\n",
      "\n",
      "    accuracy                           0.81      6000\n",
      "   macro avg       0.43      0.35      0.34      6000\n",
      "weighted avg       0.75      0.81      0.75      6000\n",
      "\n"
     ]
    }
   ],
   "source": [
    "\n",
    "print(classification_report(y_test, y_pred))"
   ]
  },
  {
   "cell_type": "markdown",
   "metadata": {},
   "source": [
    "### MODEL 1: BIKE Neural Network Regression \n",
    "\n",
    "Neural Network Regression model strava data from 2021 only\n"
   ]
  },
  {
   "cell_type": "code",
   "execution_count": 44,
   "metadata": {},
   "outputs": [
    {
     "name": "stdout",
     "output_type": "stream",
     "text": [
      "2.6.0\n"
     ]
    }
   ],
   "source": [
    "from sklearn.metrics import accuracy_score, confusion_matrix, classification_report\n",
    "import tensorflow as tf\n",
    "from tensorflow.keras import  models\n",
    "from tensorflow.keras.layers import Dense\n",
    "import os\n",
    "\n",
    "import matplotlib.pyplot as plt\n",
    "print(tf.__version__)"
   ]
  },
  {
   "cell_type": "code",
   "execution_count": 112,
   "metadata": {},
   "outputs": [],
   "source": [
    "#Functions for plotting results\n",
    "#ECDF density plot\n",
    "def abs_err_nn(predicted, y, dataset_type):\n",
    "    predicted=predicted.reshape(1,-1)[0]\n",
    "    abs_err=abs(y-predicted)\n",
    "    print(\"MAE: \",abs_err.mean())\n",
    "    #Plot\n",
    "    Title='Density Curve of Absolute Error '+ dataset_type\n",
    "    sns.displot(data=abs_err, kind=\"ecdf\").set(title=Title)\n",
    "def abs_err_nn_xlimit(predicted, y, dataset_type, x_limit=100):\n",
    "    predicted=predicted.reshape(1,-1)[0]\n",
    "    abs_err=abs(y-predicted)\n",
    "    print(\"MAE: \",abs_err.mean())\n",
    "    #Plot\n",
    "    Title='Density curve of Absolute Error '+ dataset_type\n",
    "    g=sns.displot(data=abs_err, kind=\"ecdf\").set(title=Title)\n",
    "    g.set(xlim=(0,x_limit))\n",
    "    g.set(xlabel='Abs Error')"
   ]
  },
  {
   "cell_type": "markdown",
   "metadata": {},
   "source": [
    "#### Bike NN"
   ]
  },
  {
   "cell_type": "code",
   "execution_count": 48,
   "metadata": {},
   "outputs": [],
   "source": [
    "#Making X and y and Getting dummies\n",
    "\n",
    "bike_X_D=np.asarray(pd.get_dummies(bike_X)).astype(np.float32)\n",
    "\n",
    "#Normalize\n",
    "mean=bike_X_D.mean(axis=0)\n",
    "bike_X_D-=mean\n",
    "std=bike_X_D.std(axis=0)\n",
    "bike_X_D/=std\n",
    "\n",
    "X_train, X_test, y_train, y_test = train_test_split(bike_X_D, bike_y, test_size=0.3, random_state=98)\n",
    "y_train.reset_index(drop=True, inplace=True)\n",
    "y_test.reset_index(drop=True, inplace=True)"
   ]
  },
  {
   "cell_type": "code",
   "execution_count": 104,
   "metadata": {},
   "outputs": [
    {
     "name": "stdout",
     "output_type": "stream",
     "text": [
      "Model: \"sequential_15\"\n",
      "_________________________________________________________________\n",
      "Layer (type)                 Output Shape              Param #   \n",
      "=================================================================\n",
      "dense_30 (Dense)             (None, 16)                640       \n",
      "_________________________________________________________________\n",
      "dense_31 (Dense)             (None, 5)                 85        \n",
      "=================================================================\n",
      "Total params: 725\n",
      "Trainable params: 725\n",
      "Non-trainable params: 0\n",
      "_________________________________________________________________\n",
      "None\n"
     ]
    }
   ],
   "source": [
    "\n",
    "\n",
    "n_rows, n_features = X_train.shape\n",
    "number_of_classes = 5\n",
    "\n",
    "model = models.Sequential()\n",
    "model.add(Dense(16, input_shape=(n_features,), activation=tf.nn.sigmoid))\n",
    "model.add(Dense(number_of_classes, activation=tf.nn.softmax))\n",
    "\n",
    "optimizer = tf.keras.optimizers.RMSprop(learning_rate=0.001)\n",
    "\n",
    "# Use 'sparse_categorical_crossentropy' if your target labels are integers\n",
    "# Use 'categorical_crossentropy' if your target labels are one-hot encoded\n",
    "model.compile(optimizer=optimizer, loss='sparse_categorical_crossentropy', metrics=['mae','mse', 'mape'])\n",
    "\n",
    "history = model.fit(X_train,\n",
    "                    y_train,\n",
    "                    epochs=40,\n",
    "                    batch_size=32,\n",
    "                    verbose=0,\n",
    "                    validation_split=0.4)\n",
    "\n",
    "print(model.summary())"
   ]
  },
  {
   "cell_type": "code",
   "execution_count": 107,
   "metadata": {},
   "outputs": [
    {
     "name": "stdout",
     "output_type": "stream",
     "text": [
      "Model: \"sequential_16\"\n",
      "_________________________________________________________________\n",
      "Layer (type)                 Output Shape              Param #   \n",
      "=================================================================\n",
      "dense_32 (Dense)             (None, 16)                640       \n",
      "_________________________________________________________________\n",
      "dense_33 (Dense)             (None, 5)                 85        \n",
      "=================================================================\n",
      "Total params: 725\n",
      "Trainable params: 725\n",
      "Non-trainable params: 0\n",
      "_________________________________________________________________\n",
      "None\n"
     ]
    }
   ],
   "source": [
    "from sklearn.preprocessing import LabelEncoder\n",
    "label_encoder = LabelEncoder()\n",
    "y_train = label_encoder.fit_transform(y_train)\n",
    "\n",
    "n_rows,n_features=X_train.shape\n",
    "model = models.Sequential()\n",
    "model.add(Dense(16,input_shape=(n_features,), activation=tf.nn.sigmoid))\n",
    "model.add(Dense(5, activation=tf.nn.relu))\n",
    "\n",
    "\n",
    "optimizer = tf.keras.optimizers.RMSprop(\n",
    "                learning_rate=0.001\n",
    "                )\n",
    "model.compile(optimizer = optimizer, \n",
    "            loss = 'mape', \n",
    "            metrics = ['mae','mse', 'mape'])\n",
    "history=model.fit(X_train, \n",
    "        y_train, \n",
    "        epochs =40,\n",
    "        batch_size=32, verbose=0, validation_split=0.4) \n",
    "print(model.summary())"
   ]
  },
  {
   "cell_type": "code",
   "execution_count": 96,
   "metadata": {},
   "outputs": [],
   "source": [
    "from sklearn.metrics import mean_absolute_error\n",
    "from sklearn.metrics import mean_absolute_percentage_error\n",
    "from sklearn.metrics import mean_squared_error"
   ]
  },
  {
   "cell_type": "code",
   "execution_count": 97,
   "metadata": {},
   "outputs": [
    {
     "data": {
      "text/plain": [
       "array([[0., 0., 0., 0., 0.],\n",
       "       [0., 0., 0., 0., 0.],\n",
       "       [0., 0., 0., 0., 0.],\n",
       "       ...,\n",
       "       [0., 0., 0., 0., 0.],\n",
       "       [0., 0., 0., 0., 0.],\n",
       "       [0., 0., 0., 0., 0.]], dtype=float32)"
      ]
     },
     "execution_count": 97,
     "metadata": {},
     "output_type": "execute_result"
    }
   ],
   "source": [
    "y_test_hat"
   ]
  },
  {
   "cell_type": "code",
   "execution_count": 108,
   "metadata": {},
   "outputs": [
    {
     "name": "stdout",
     "output_type": "stream",
     "text": [
      "mean abs error = 0.5396111814639669\n",
      "mean abs % error = 0.20154978613475388\n",
      "mean sqred error = 1.7037229748228984\n"
     ]
    }
   ],
   "source": [
    "y_test = label_encoder.transform(y_test)\n",
    "y_p = model.predict(X_test)\n",
    "y_test_hat = np.argmax(y_p, axis=1)\n",
    "\n",
    "print(f'mean abs error = {mean_absolute_error(np.exp(y_test),np.exp(y_test_hat))}')\n",
    "print(f'mean abs % error = {mean_absolute_percentage_error(np.exp(y_test),np.exp(y_test_hat))}')\n",
    "print(f'mean sqred error = {mean_squared_error(np.exp(y_test),np.exp(y_test_hat))}')"
   ]
  },
  {
   "cell_type": "code",
   "execution_count": 109,
   "metadata": {},
   "outputs": [
    {
     "data": {
      "image/png": "[encoded data removed]",
      "text/plain": [
       "<Figure size 720x504 with 1 Axes>"
      ]
     },
     "metadata": {},
     "output_type": "display_data"
    },
    {
     "data": {
      "image/png": "[encoded data removed]",
      "text/plain": [
       "<Figure size 720x504 with 1 Axes>"
      ]
     },
     "metadata": {},
     "output_type": "display_data"
    },
    {
     "data": {
      "image/png": "[encoded data removed]",
      "text/plain": [
       "<Figure size 720x504 with 1 Axes>"
      ]
     },
     "metadata": {},
     "output_type": "display_data"
    }
   ],
   "source": [
    "def plot_history(history):\n",
    "    hist=pd.DataFrame(history.history)\n",
    "    hist['epoch']=history.epoch\n",
    "\n",
    "    plt.figure()\n",
    "    plt.xlabel('Epoch')\n",
    "    plt.ylabel(\"Mean Squared Error\")\n",
    "    plt.plot(hist['epoch'],hist['mse'], label=\"Train Error\")\n",
    "    plt.plot(hist['epoch'],hist['val_mse'], label=\"Val Error\")\n",
    "    plt.legend()\n",
    "    #plt.ylim([0.2,0.6])\n",
    "    \n",
    "    plt.figure()\n",
    "    plt.xlabel('Epoch')\n",
    "    plt.ylabel(\"Mean Abs Error\")\n",
    "    plt.plot(hist['epoch'],hist['mae'], label=\"Train Error\")\n",
    "    plt.plot(hist['epoch'],hist['val_mae'], label=\"Val Error\")\n",
    "    plt.legend()\n",
    "    #plt.ylim([0.3,0.6])\n",
    "\n",
    "    plt.figure()\n",
    "    plt.xlabel('Epoch')\n",
    "    plt.ylabel(\"Mean Abs Percentage Error\")\n",
    "    plt.plot(hist['epoch'],hist['mape'], label=\"Train Error\")\n",
    "    plt.plot(hist['epoch'],hist['val_mape'], label=\"Val Error\")\n",
    "    plt.legend()\n",
    "    #plt.ylim([10,25])\n",
    "plot_history(history)"
   ]
  },
  {
   "cell_type": "code",
   "execution_count": 44,
   "metadata": {},
   "outputs": [
    {
     "name": "stdout",
     "output_type": "stream",
     "text": [
      "mean abs error = 5.794438062073937\n",
      "mean abs % error = 0.286785321986352\n",
      "mean sqred error = 285.70424263527826\n"
     ]
    }
   ],
   "source": [
    "y_test_hat=model.predict(X_test)\n",
    "print(f'mean abs error = {mean_absolute_error(np.exp(y_test),np.exp(y_test_hat))}')\n",
    "print(f'mean abs % error = {mean_absolute_percentage_error(np.exp(y_test),np.exp(y_test_hat))}')\n",
    "print(f'mean sqred error = {mean_squared_error(np.exp(y_test),np.exp(y_test_hat))}')"
   ]
  },
  {
   "cell_type": "code",
   "execution_count": 113,
   "metadata": {},
   "outputs": [
    {
     "name": "stdout",
     "output_type": "stream",
     "text": [
      "MAE:  0.2851666666666667\n"
     ]
    },
    {
     "data": {
      "image/png": "[encoded data removed]",
      "text/plain": [
       "<Figure size 360x360 with 1 Axes>"
      ]
     },
     "metadata": {},
     "output_type": "display_data"
    }
   ],
   "source": [
    "abs_err_nn(y_test_hat,y_test,dataset_type='Test (log)')"
   ]
  },
  {
   "cell_type": "code",
   "execution_count": 114,
   "metadata": {},
   "outputs": [
    {
     "name": "stdout",
     "output_type": "stream",
     "text": [
      "MAE:  0.5396111814639669\n"
     ]
    },
    {
     "data": {
      "image/png": "[encoded data removed]",
      "text/plain": [
       "<Figure size 360x360 with 1 Axes>"
      ]
     },
     "metadata": {},
     "output_type": "display_data"
    }
   ],
   "source": [
    "abs_err_nn(np.exp(y_test_hat),np.exp(y_test),dataset_type='Test') #Unlogged"
   ]
  },
  {
   "cell_type": "markdown",
   "metadata": {},
   "source": [
    "#### Ped NN"
   ]
  },
  {
   "cell_type": "code",
   "execution_count": 130,
   "metadata": {},
   "outputs": [],
   "source": [
    "#Making X and y and Getting dummies\n",
    "ped_X_D=np.asarray(pd.get_dummies(ped_X)).astype(np.float32)\n",
    "#Normalize\n",
    "\n",
    "X_train, X_test, y_train, y_test = train_test_split(ped_X_D, ped_y, test_size=0.3, random_state=98)"
   ]
  },
  {
   "cell_type": "code",
   "execution_count": 131,
   "metadata": {},
   "outputs": [
    {
     "name": "stdout",
     "output_type": "stream",
     "text": [
      "Model: \"sequential_21\"\n",
      "_________________________________________________________________\n",
      "Layer (type)                 Output Shape              Param #   \n",
      "=================================================================\n",
      "dense_42 (Dense)             (None, 16)                640       \n",
      "_________________________________________________________________\n",
      "dense_43 (Dense)             (None, 1)                 17        \n",
      "=================================================================\n",
      "Total params: 657\n",
      "Trainable params: 657\n",
      "Non-trainable params: 0\n",
      "_________________________________________________________________\n",
      "None\n"
     ]
    }
   ],
   "source": [
    "from sklearn.preprocessing import LabelEncoder\n",
    "label_encoder = LabelEncoder()\n",
    "y_train = label_encoder.fit_transform(y_train)\n",
    "\n",
    "model = models.Sequential()\n",
    "model.add(Dense(16, activation=tf.nn.sigmoid))\n",
    "model.add(Dense(1, activation=tf.nn.relu))\n",
    "\n",
    "\n",
    "optimizer = tf.keras.optimizers.RMSprop(\n",
    "                learning_rate=0.001\n",
    "                )\n",
    "model.compile(optimizer = optimizer, \n",
    "            loss = 'mse', \n",
    "            metrics = ['mae','mse', 'mape'])\n",
    "history=model.fit(X_train, \n",
    "        y_train, \n",
    "        epochs = 40,\n",
    "        batch_size=32, verbose=0, validation_split=0.4) \n",
    "print(model.summary())"
   ]
  },
  {
   "cell_type": "code",
   "execution_count": 132,
   "metadata": {},
   "outputs": [
    {
     "name": "stdout",
     "output_type": "stream",
     "text": [
      "mean abs error = 0.3544698700502842\n",
      "mean abs % error = 0.11876389928710598\n",
      "mean sqred error = 0.8428402073529414\n"
     ]
    }
   ],
   "source": [
    "y_test = label_encoder.transform(y_test)\n",
    "y_p = model.predict(X_test)\n",
    "y_test_hat = np.argmax(y_p, axis=1)\n",
    "print(f'mean abs error = {mean_absolute_error(np.exp(y_test),np.exp(y_test_hat))}')\n",
    "print(f'mean abs % error = {mean_absolute_percentage_error(np.exp(y_test),np.exp(y_test_hat))}')\n",
    "print(f'mean sqred error = {mean_squared_error(np.exp(y_test),np.exp(y_test_hat))}')"
   ]
  },
  {
   "cell_type": "code",
   "execution_count": 55,
   "metadata": {},
   "outputs": [
    {
     "name": "stdout",
     "output_type": "stream",
     "text": [
      "mean abs error = 0.3844159112315556\n",
      "mean abs % error = 0.17627693730244978\n",
      "mean sqred error = 0.31995120781144787\n"
     ]
    }
   ],
   "source": [
    "y_test_hat=model.predict(X_test)\n",
    "print(f'mean abs error = {mean_absolute_error(y_test,y_test_hat)}')\n",
    "print(f'mean abs % error = {mean_absolute_percentage_error(y_test,y_test_hat)}')\n",
    "print(f'mean sqred error = {mean_squared_error(y_test,y_test_hat)}')"
   ]
  },
  {
   "cell_type": "code",
   "execution_count": 133,
   "metadata": {},
   "outputs": [
    {
     "name": "stdout",
     "output_type": "stream",
     "text": [
      "MAE:  0.19283333333333333\n"
     ]
    },
    {
     "data": {
      "image/png": "[encoded data removed]",
      "text/plain": [
       "<Figure size 360x360 with 1 Axes>"
      ]
     },
     "metadata": {},
     "output_type": "display_data"
    }
   ],
   "source": [
    "abs_err_nn(y_test_hat,y_test,dataset_type='Test (log)')"
   ]
  },
  {
   "cell_type": "code",
   "execution_count": 134,
   "metadata": {},
   "outputs": [
    {
     "name": "stdout",
     "output_type": "stream",
     "text": [
      "MAE:  0.3544698700502842\n"
     ]
    },
    {
     "data": {
      "image/png": "[encoded data removed]",
      "text/plain": [
       "<Figure size 360x360 with 1 Axes>"
      ]
     },
     "metadata": {},
     "output_type": "display_data"
    }
   ],
   "source": [
    "abs_err_nn_xlimit(np.exp(y_test_hat),np.exp(y_test),dataset_type='Test (unlog)')"
   ]
  },
  {
   "cell_type": "markdown",
   "metadata": {},
   "source": [
    "#### "
   ]
  },
  {
   "cell_type": "markdown",
   "metadata": {},
   "source": [
    "### XGBOOST"
   ]
  },
  {
   "cell_type": "code",
   "execution_count": 40,
   "metadata": {},
   "outputs": [],
   "source": [
    "from sklearn.metrics import mean_absolute_error\n",
    "from sklearn.metrics import mean_absolute_percentage_error\n",
    "from sklearn.metrics import mean_squared_error\n",
    "from sklearn.metrics import accuracy_score\n",
    "\n",
    "from sklearn.neural_network import MLPRegressor\n",
    "from sklearn.model_selection import GridSearchCV\n",
    "from sklearn.preprocessing import LabelEncoder"
   ]
  },
  {
   "cell_type": "markdown",
   "metadata": {},
   "source": [
    "#### Bike"
   ]
  },
  {
   "cell_type": "code",
   "execution_count": 41,
   "metadata": {},
   "outputs": [],
   "source": [
    "import xgboost as xg\n",
    "#print(xgboost.__version__)"
   ]
  },
  {
   "cell_type": "code",
   "execution_count": 42,
   "metadata": {},
   "outputs": [],
   "source": [
    "\n",
    "bike_X_D=np.asarray(pd.get_dummies(bike_X)).astype(np.float32)\n",
    "\n",
    "#Normalize\n",
    "mean=bike_X_D.mean(axis=0)\n",
    "bike_X_D-=mean\n",
    "std=bike_X_D.std(axis=0)\n",
    "bike_X_D/=std\n",
    "#Label Encoder for y\n",
    "le=LabelEncoder()\n",
    "bike_y_num=le.fit_transform(bike_y)\n",
    "\n",
    "X_train, X_test_, y_train, y_test_ = train_test_split(bike_X_D, bike_y_num, test_size=0.4, random_state=98)\n",
    "X_val, X_test, y_val, y_test = train_test_split(X_test_, y_test_, test_size=0.5, random_state=98)"
   ]
  },
  {
   "cell_type": "code",
   "execution_count": 124,
   "metadata": {},
   "outputs": [],
   "source": [
    "#Parameter tuning:::::::::::::;\n",
    "# from sklearn.model_selection import GridSearchCV\n",
    "# param_grid = {\n",
    "#     \"max_depth\": [3, 4, 5, 7],\n",
    "#     \"learning_rate\": [0.1, 0.01, 0.05],\n",
    "#     \"gamma\": [0, 0.25, 1],\n",
    "#     \"reg_lambda\": [0, 1, 10],\n",
    "#     \"scale_pos_weight\": [1, 3, 5],\n",
    "#     \"subsample\": [0.8],\n",
    "#     \"colsample_bytree\": [0.5],\n",
    "# }\n",
    "# # Init classifier\n",
    "# xgb_cl = xg.XGBClassifier()\n",
    "\n",
    "# # Init Grid Search\n",
    "# grid_cv = GridSearchCV(xgb_cl, param_grid, n_jobs=-1, cv=3, scoring=\"roc_auc\")\n",
    "\n",
    "# # Fit\n",
    "# _ = grid_cv.fit(X_val, y_val)\n",
    "#grid_cv.best_params_\n",
    "'''\n",
    "{'colsample_bytree': 0.5,\n",
    " 'gamma': 0,\n",
    " 'learning_rate': 0.1,\n",
    " 'max_depth': 3,\n",
    " 'reg_lambda': 0,\n",
    " 'scale_pos_weight': 1,\n",
    " 'subsample': 0.8}\n",
    " '''"
   ]
  },
  {
   "cell_type": "code",
   "execution_count": 43,
   "metadata": {},
   "outputs": [
    {
     "name": "stdout",
     "output_type": "stream",
     "text": [
      "[19:00:30] WARNING: C:/Users/administrator/workspace/xgboost-win64_release_1.6.0/src/learner.cc:627: \n",
      "Parameters: { \"scale_pos_weight\" } might not be used.\n",
      "\n",
      "  This could be a false alarm, with some parameters getting used by language bindings but\n",
      "  then being mistakenly passed down to XGBoost core, or some parameter actually being used\n",
      "  but getting flagged wrongly here. Please open an issue if you find any such cases.\n",
      "\n",
      "\n"
     ]
    },
    {
     "data": {
      "text/plain": [
       "0.845"
      ]
     },
     "execution_count": 43,
     "metadata": {},
     "output_type": "execute_result"
    }
   ],
   "source": [
    "\n",
    "model = xg.XGBClassifier(colsample_bytree= 1,gamma= 0,\n",
    " learning_rate= 0.5,\n",
    " max_depth= 6,\n",
    " reg_lambda= 0,\n",
    " scale_pos_weight= 1,\n",
    " subsample= 0.8)\n",
    "model.fit(X_train, y_train)\n",
    "y_test_hat=model.predict(X_test)\n",
    "accuracy_score(y_test, y_test_hat)"
   ]
  },
  {
   "cell_type": "markdown",
   "metadata": {},
   "source": [
    "train accuracy 93.32%"
   ]
  },
  {
   "cell_type": "code",
   "execution_count": 44,
   "metadata": {},
   "outputs": [
    {
     "name": "stdout",
     "output_type": "stream",
     "text": [
      "              precision    recall  f1-score   support\n",
      "\n",
      "           0       0.86      0.94      0.90      2910\n",
      "           1       0.78      0.59      0.67      1067\n",
      "           2       0.83      0.43      0.57        23\n",
      "\n",
      "    accuracy                           0.84      4000\n",
      "   macro avg       0.82      0.66      0.71      4000\n",
      "weighted avg       0.84      0.84      0.84      4000\n",
      "\n"
     ]
    }
   ],
   "source": [
    "print(classification_report(y_test, y_test_hat))"
   ]
  },
  {
   "cell_type": "markdown",
   "metadata": {},
   "source": [
    "#### Ped"
   ]
  },
  {
   "cell_type": "code",
   "execution_count": 45,
   "metadata": {},
   "outputs": [],
   "source": [
    "#Making X and y and Getting dummies\n",
    "ped_X_D=np.asarray(pd.get_dummies(ped_X)).astype(np.float32)\n",
    "#Normalize\n",
    "#Normalize\n",
    "mean=ped_X_D.mean(axis=0)\n",
    "ped_X_D-=mean\n",
    "std=ped_X_D.std(axis=0)\n",
    "ped_X_D/=std\n",
    "#Label Encoder for y\n",
    "le=LabelEncoder()\n",
    "ped_y_num=le.fit_transform(ped_y)\n",
    "\n",
    "X_train, X_test_, y_train, y_test_ = train_test_split(ped_X_D, ped_y_num, test_size=0.4, random_state=98)\n",
    "X_val, X_test, y_val, y_test = train_test_split(X_test_, y_test_, test_size=0.5, random_state=98)"
   ]
  },
  {
   "cell_type": "code",
   "execution_count": 155,
   "metadata": {},
   "outputs": [
    {
     "name": "stdout",
     "output_type": "stream",
     "text": [
      "[18:39:07] WARNING: C:/Users/administrator/workspace/xgboost-win64_release_1.6.0/src/learner.cc:627: \n",
      "Parameters: { \"scale_pos_weight\" } might not be used.\n",
      "\n",
      "  This could be a false alarm, with some parameters getting used by language bindings but\n",
      "  then being mistakenly passed down to XGBoost core, or some parameter actually being used\n",
      "  but getting flagged wrongly here. Please open an issue if you find any such cases.\n",
      "\n",
      "\n"
     ]
    }
   ],
   "source": [
    "param_grid = {\n",
    "    \"max_depth\": [3, 4, 5, 7],\n",
    "    \"learning_rate\": [0.1, 0.01, 0.05],\n",
    "    \"gamma\": [0, 0.25, 1],\n",
    "    \"reg_lambda\": [0, 1, 10],\n",
    "    \"scale_pos_weight\": [1, 3, 5],\n",
    "    \"subsample\": [0.8],\n",
    "    \"colsample_bytree\": [0.5],\n",
    "}\n",
    "# Init classifier\n",
    "xgb_cl = xg.XGBClassifier()\n",
    "\n",
    "# Init Grid Search\n",
    "grid_cv = GridSearchCV(xgb_cl, param_grid, n_jobs=-1, cv=3, scoring=\"roc_auc\")\n",
    "\n",
    "# Fit\n",
    "_ = grid_cv.fit(X_val, y_val)\n",
    "\n",
    "#Parameter tuning results::\n",
    "#grid_cv.best_params_\n",
    "\"\"\"\n",
    "{'colsample_bytree': 0.5,\n",
    " 'gamma': 0,\n",
    " 'learning_rate': 0.1,\n",
    " 'max_depth': 3,\n",
    " 'reg_lambda': 0,\n",
    " 'scale_pos_weight': 1,\n",
    " 'subsample': 0.8}\n",
    "\n",
    "\n",
    "\"\""
   ]
  },
  {
   "cell_type": "code",
   "execution_count": 46,
   "metadata": {},
   "outputs": [
    {
     "name": "stdout",
     "output_type": "stream",
     "text": [
      "[19:01:02] WARNING: C:/Users/administrator/workspace/xgboost-win64_release_1.6.0/src/learner.cc:627: \n",
      "Parameters: { \"scale_pos_weight\" } might not be used.\n",
      "\n",
      "  This could be a false alarm, with some parameters getting used by language bindings but\n",
      "  then being mistakenly passed down to XGBoost core, or some parameter actually being used\n",
      "  but getting flagged wrongly here. Please open an issue if you find any such cases.\n",
      "\n",
      "\n"
     ]
    },
    {
     "data": {
      "text/plain": [
       "0.8765"
      ]
     },
     "execution_count": 46,
     "metadata": {},
     "output_type": "execute_result"
    }
   ],
   "source": [
    "\n",
    "model = xg.XGBClassifier(colsample_bytree= 1,gamma= 0,\n",
    " learning_rate= 0.5,\n",
    " max_depth= 6,\n",
    " reg_lambda= 0,\n",
    " scale_pos_weight= 1,\n",
    " subsample= 0.8)\n",
    "model.fit(X_train, y_train)\n",
    "y_test_hat=model.predict(X_test)\n",
    "accuracy_score(y_test, y_test_hat)"
   ]
  },
  {
   "cell_type": "markdown",
   "metadata": {},
   "source": [
    "train acc 96.45%"
   ]
  },
  {
   "cell_type": "code",
   "execution_count": 47,
   "metadata": {},
   "outputs": [
    {
     "name": "stdout",
     "output_type": "stream",
     "text": [
      "              precision    recall  f1-score   support\n",
      "\n",
      "           0       0.90      0.96      0.93      3263\n",
      "           1       0.71      0.51      0.60       701\n",
      "           2       0.81      0.61      0.70        36\n",
      "\n",
      "    accuracy                           0.88      4000\n",
      "   macro avg       0.81      0.69      0.74      4000\n",
      "weighted avg       0.87      0.88      0.87      4000\n",
      "\n"
     ]
    }
   ],
   "source": [
    "print(classification_report(y_test, y_test_hat))"
   ]
  },
  {
   "cell_type": "code",
   "execution_count": null,
   "metadata": {},
   "outputs": [],
   "source": []
  }
 ],
 "metadata": {
  "kernelspec": {
   "display_name": "Python 3.9.12 ('tf')",
   "language": "python",
   "name": "python3"
  },
  "language_info": {
   "codemirror_mode": {
    "name": "ipython",
    "version": 3
   },
   "file_extension": ".py",
   "mimetype": "text/x-python",
   "name": "python",
   "nbconvert_exporter": "python",
   "pygments_lexer": "ipython3",
   "version": "3.9.12"
  },
  "orig_nbformat": 4,
  "vscode": {
   "interpreter": {
    "hash": "845945c4f2405d7f5cd47d22eff958b70f0df9b9eb39732dac45abe81870b6d9"
   }
  }
 },
 "nbformat": 4,
 "nbformat_minor": 2
}
